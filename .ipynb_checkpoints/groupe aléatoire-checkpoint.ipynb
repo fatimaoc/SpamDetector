{
 "cells": [
  {
   "cell_type": "code",
   "execution_count": 2,
   "metadata": {},
   "outputs": [],
   "source": [
    "import numpy as np"
   ]
  },
  {
   "cell_type": "code",
   "execution_count": 24,
   "metadata": {},
   "outputs": [
    {
     "name": "stdout",
     "output_type": "stream",
     "text": [
      "['Myriam', 'Sacia', 'Fatima', 'Pierre-Etienne']\n",
      "['Olivier', 'Jean-Pierre', 'Ludo', 'Julien']\n",
      "['Joshua', 'Caroline', 'Dan', 'Constant']\n",
      "['Hachem', 'Anthony', 'Cecilia', 'Wiem', 'Bassem']\n",
      "['Nidhal', 'Ines', 'Roger', 'Xavier']\n"
     ]
    }
   ],
   "source": [
    "app = 'Anthony Constant Joshua Fatima Julien Bassem Caroline Dan Ines Nidhal Sacia Xavier Roger Hachem Jean-Pierre Myriam Ludo Olivier Pierre-Etienne Wiem Cecilia'.split()\n",
    "\n",
    "np.random.seed(1)\n",
    "\n",
    "rapp = [app[i] for i in np.random.choice(21, 21, replace=False)]\n",
    "for i in range(5):\n",
    "    print(rapp[4*i:4*i+4] + ([rapp[-1]] if i == 3 else []))"
   ]
  },
  {
   "cell_type": "code",
   "execution_count": null,
   "metadata": {},
   "outputs": [],
   "source": []
  }
 ],
 "metadata": {
  "kernelspec": {
   "display_name": "Python 3",
   "language": "python",
   "name": "python3"
  },
  "language_info": {
   "codemirror_mode": {
    "name": "ipython",
    "version": 3
   },
   "file_extension": ".py",
   "mimetype": "text/x-python",
   "name": "python",
   "nbconvert_exporter": "python",
   "pygments_lexer": "ipython3",
   "version": "3.6.12"
  }
 },
 "nbformat": 4,
 "nbformat_minor": 4
}
